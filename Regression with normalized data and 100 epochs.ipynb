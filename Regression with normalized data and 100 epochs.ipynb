{
 "cells": [
  {
   "cell_type": "markdown",
   "metadata": {},
   "source": [
    "# Download and Clean Dataset\n"
   ]
  },
  {
   "cell_type": "code",
   "execution_count": 1,
   "metadata": {},
   "outputs": [],
   "source": [
    "import pandas as pd\n",
    "import numpy as np"
   ]
  },
  {
   "cell_type": "markdown",
   "metadata": {},
   "source": [
    "## Import data from source and explore it"
   ]
  },
  {
   "cell_type": "code",
   "execution_count": 2,
   "metadata": {},
   "outputs": [
    {
     "data": {
      "text/html": [
       "<div>\n",
       "<style scoped>\n",
       "    .dataframe tbody tr th:only-of-type {\n",
       "        vertical-align: middle;\n",
       "    }\n",
       "\n",
       "    .dataframe tbody tr th {\n",
       "        vertical-align: top;\n",
       "    }\n",
       "\n",
       "    .dataframe thead th {\n",
       "        text-align: right;\n",
       "    }\n",
       "</style>\n",
       "<table border=\"1\" class=\"dataframe\">\n",
       "  <thead>\n",
       "    <tr style=\"text-align: right;\">\n",
       "      <th></th>\n",
       "      <th>Cement</th>\n",
       "      <th>Blast Furnace Slag</th>\n",
       "      <th>Fly Ash</th>\n",
       "      <th>Water</th>\n",
       "      <th>Superplasticizer</th>\n",
       "      <th>Coarse Aggregate</th>\n",
       "      <th>Fine Aggregate</th>\n",
       "      <th>Age</th>\n",
       "      <th>Strength</th>\n",
       "    </tr>\n",
       "  </thead>\n",
       "  <tbody>\n",
       "    <tr>\n",
       "      <th>0</th>\n",
       "      <td>540.0</td>\n",
       "      <td>0.0</td>\n",
       "      <td>0.0</td>\n",
       "      <td>162.0</td>\n",
       "      <td>2.5</td>\n",
       "      <td>1040.0</td>\n",
       "      <td>676.0</td>\n",
       "      <td>28</td>\n",
       "      <td>79.99</td>\n",
       "    </tr>\n",
       "    <tr>\n",
       "      <th>1</th>\n",
       "      <td>540.0</td>\n",
       "      <td>0.0</td>\n",
       "      <td>0.0</td>\n",
       "      <td>162.0</td>\n",
       "      <td>2.5</td>\n",
       "      <td>1055.0</td>\n",
       "      <td>676.0</td>\n",
       "      <td>28</td>\n",
       "      <td>61.89</td>\n",
       "    </tr>\n",
       "    <tr>\n",
       "      <th>2</th>\n",
       "      <td>332.5</td>\n",
       "      <td>142.5</td>\n",
       "      <td>0.0</td>\n",
       "      <td>228.0</td>\n",
       "      <td>0.0</td>\n",
       "      <td>932.0</td>\n",
       "      <td>594.0</td>\n",
       "      <td>270</td>\n",
       "      <td>40.27</td>\n",
       "    </tr>\n",
       "    <tr>\n",
       "      <th>3</th>\n",
       "      <td>332.5</td>\n",
       "      <td>142.5</td>\n",
       "      <td>0.0</td>\n",
       "      <td>228.0</td>\n",
       "      <td>0.0</td>\n",
       "      <td>932.0</td>\n",
       "      <td>594.0</td>\n",
       "      <td>365</td>\n",
       "      <td>41.05</td>\n",
       "    </tr>\n",
       "    <tr>\n",
       "      <th>4</th>\n",
       "      <td>198.6</td>\n",
       "      <td>132.4</td>\n",
       "      <td>0.0</td>\n",
       "      <td>192.0</td>\n",
       "      <td>0.0</td>\n",
       "      <td>978.4</td>\n",
       "      <td>825.5</td>\n",
       "      <td>360</td>\n",
       "      <td>44.30</td>\n",
       "    </tr>\n",
       "  </tbody>\n",
       "</table>\n",
       "</div>"
      ],
      "text/plain": [
       "   Cement  Blast Furnace Slag  Fly Ash  Water  Superplasticizer  \\\n",
       "0   540.0                 0.0      0.0  162.0               2.5   \n",
       "1   540.0                 0.0      0.0  162.0               2.5   \n",
       "2   332.5               142.5      0.0  228.0               0.0   \n",
       "3   332.5               142.5      0.0  228.0               0.0   \n",
       "4   198.6               132.4      0.0  192.0               0.0   \n",
       "\n",
       "   Coarse Aggregate  Fine Aggregate  Age  Strength  \n",
       "0            1040.0           676.0   28     79.99  \n",
       "1            1055.0           676.0   28     61.89  \n",
       "2             932.0           594.0  270     40.27  \n",
       "3             932.0           594.0  365     41.05  \n",
       "4             978.4           825.5  360     44.30  "
      ]
     },
     "execution_count": 2,
     "metadata": {},
     "output_type": "execute_result"
    }
   ],
   "source": [
    "import ssl\n",
    "\n",
    "ssl._create_default_https_context = ssl._create_unverified_context\n",
    "\n",
    "concrete_data = pd.read_csv('https://s3-api.us-geo.objectstorage.softlayer.net/cf-courses-data/CognitiveClass/DL0101EN/labs/data/concrete_data.csv')\n",
    "concrete_data.head()"
   ]
  },
  {
   "cell_type": "markdown",
   "metadata": {},
   "source": [
    "So the first concrete sample has 540 cement cubic meter, 0 cubic meter of blast furnace slag, 0 cubic meter of fly ash, 162 cubic meter of water, 2.5 cubic meter of superplaticizer, 1040 cubic meter of coarse aggregate, 676 cubic meter of fine aggregate. Such a concrete mix which is 28 days old, has a compressive strength of 79.99 MPa. the first concrete sample is much closer to the second concrete sample"
   ]
  },
  {
   "cell_type": "code",
   "execution_count": 3,
   "metadata": {},
   "outputs": [
    {
     "data": {
      "text/html": [
       "<div>\n",
       "<style scoped>\n",
       "    .dataframe tbody tr th:only-of-type {\n",
       "        vertical-align: middle;\n",
       "    }\n",
       "\n",
       "    .dataframe tbody tr th {\n",
       "        vertical-align: top;\n",
       "    }\n",
       "\n",
       "    .dataframe thead th {\n",
       "        text-align: right;\n",
       "    }\n",
       "</style>\n",
       "<table border=\"1\" class=\"dataframe\">\n",
       "  <thead>\n",
       "    <tr style=\"text-align: right;\">\n",
       "      <th></th>\n",
       "      <th>Cement</th>\n",
       "      <th>Blast Furnace Slag</th>\n",
       "      <th>Fly Ash</th>\n",
       "      <th>Water</th>\n",
       "      <th>Superplasticizer</th>\n",
       "      <th>Coarse Aggregate</th>\n",
       "      <th>Fine Aggregate</th>\n",
       "      <th>Age</th>\n",
       "      <th>Strength</th>\n",
       "    </tr>\n",
       "  </thead>\n",
       "  <tbody>\n",
       "    <tr>\n",
       "      <th>count</th>\n",
       "      <td>1030.000000</td>\n",
       "      <td>1030.000000</td>\n",
       "      <td>1030.000000</td>\n",
       "      <td>1030.000000</td>\n",
       "      <td>1030.000000</td>\n",
       "      <td>1030.000000</td>\n",
       "      <td>1030.000000</td>\n",
       "      <td>1030.000000</td>\n",
       "      <td>1030.000000</td>\n",
       "    </tr>\n",
       "    <tr>\n",
       "      <th>mean</th>\n",
       "      <td>281.167864</td>\n",
       "      <td>73.895825</td>\n",
       "      <td>54.188350</td>\n",
       "      <td>181.567282</td>\n",
       "      <td>6.204660</td>\n",
       "      <td>972.918932</td>\n",
       "      <td>773.580485</td>\n",
       "      <td>45.662136</td>\n",
       "      <td>35.817961</td>\n",
       "    </tr>\n",
       "    <tr>\n",
       "      <th>std</th>\n",
       "      <td>104.506364</td>\n",
       "      <td>86.279342</td>\n",
       "      <td>63.997004</td>\n",
       "      <td>21.354219</td>\n",
       "      <td>5.973841</td>\n",
       "      <td>77.753954</td>\n",
       "      <td>80.175980</td>\n",
       "      <td>63.169912</td>\n",
       "      <td>16.705742</td>\n",
       "    </tr>\n",
       "    <tr>\n",
       "      <th>min</th>\n",
       "      <td>102.000000</td>\n",
       "      <td>0.000000</td>\n",
       "      <td>0.000000</td>\n",
       "      <td>121.800000</td>\n",
       "      <td>0.000000</td>\n",
       "      <td>801.000000</td>\n",
       "      <td>594.000000</td>\n",
       "      <td>1.000000</td>\n",
       "      <td>2.330000</td>\n",
       "    </tr>\n",
       "    <tr>\n",
       "      <th>25%</th>\n",
       "      <td>192.375000</td>\n",
       "      <td>0.000000</td>\n",
       "      <td>0.000000</td>\n",
       "      <td>164.900000</td>\n",
       "      <td>0.000000</td>\n",
       "      <td>932.000000</td>\n",
       "      <td>730.950000</td>\n",
       "      <td>7.000000</td>\n",
       "      <td>23.710000</td>\n",
       "    </tr>\n",
       "    <tr>\n",
       "      <th>50%</th>\n",
       "      <td>272.900000</td>\n",
       "      <td>22.000000</td>\n",
       "      <td>0.000000</td>\n",
       "      <td>185.000000</td>\n",
       "      <td>6.400000</td>\n",
       "      <td>968.000000</td>\n",
       "      <td>779.500000</td>\n",
       "      <td>28.000000</td>\n",
       "      <td>34.445000</td>\n",
       "    </tr>\n",
       "    <tr>\n",
       "      <th>75%</th>\n",
       "      <td>350.000000</td>\n",
       "      <td>142.950000</td>\n",
       "      <td>118.300000</td>\n",
       "      <td>192.000000</td>\n",
       "      <td>10.200000</td>\n",
       "      <td>1029.400000</td>\n",
       "      <td>824.000000</td>\n",
       "      <td>56.000000</td>\n",
       "      <td>46.135000</td>\n",
       "    </tr>\n",
       "    <tr>\n",
       "      <th>max</th>\n",
       "      <td>540.000000</td>\n",
       "      <td>359.400000</td>\n",
       "      <td>200.100000</td>\n",
       "      <td>247.000000</td>\n",
       "      <td>32.200000</td>\n",
       "      <td>1145.000000</td>\n",
       "      <td>992.600000</td>\n",
       "      <td>365.000000</td>\n",
       "      <td>82.600000</td>\n",
       "    </tr>\n",
       "  </tbody>\n",
       "</table>\n",
       "</div>"
      ],
      "text/plain": [
       "            Cement  Blast Furnace Slag      Fly Ash        Water  \\\n",
       "count  1030.000000         1030.000000  1030.000000  1030.000000   \n",
       "mean    281.167864           73.895825    54.188350   181.567282   \n",
       "std     104.506364           86.279342    63.997004    21.354219   \n",
       "min     102.000000            0.000000     0.000000   121.800000   \n",
       "25%     192.375000            0.000000     0.000000   164.900000   \n",
       "50%     272.900000           22.000000     0.000000   185.000000   \n",
       "75%     350.000000          142.950000   118.300000   192.000000   \n",
       "max     540.000000          359.400000   200.100000   247.000000   \n",
       "\n",
       "       Superplasticizer  Coarse Aggregate  Fine Aggregate          Age  \\\n",
       "count       1030.000000       1030.000000     1030.000000  1030.000000   \n",
       "mean           6.204660        972.918932      773.580485    45.662136   \n",
       "std            5.973841         77.753954       80.175980    63.169912   \n",
       "min            0.000000        801.000000      594.000000     1.000000   \n",
       "25%            0.000000        932.000000      730.950000     7.000000   \n",
       "50%            6.400000        968.000000      779.500000    28.000000   \n",
       "75%           10.200000       1029.400000      824.000000    56.000000   \n",
       "max           32.200000       1145.000000      992.600000   365.000000   \n",
       "\n",
       "          Strength  \n",
       "count  1030.000000  \n",
       "mean     35.817961  \n",
       "std      16.705742  \n",
       "min       2.330000  \n",
       "25%      23.710000  \n",
       "50%      34.445000  \n",
       "75%      46.135000  \n",
       "max      82.600000  "
      ]
     },
     "execution_count": 3,
     "metadata": {},
     "output_type": "execute_result"
    }
   ],
   "source": [
    "concrete_data.describe()"
   ]
  },
  {
   "cell_type": "code",
   "execution_count": 4,
   "metadata": {},
   "outputs": [
    {
     "data": {
      "text/plain": [
       "Cement                0\n",
       "Blast Furnace Slag    0\n",
       "Fly Ash               0\n",
       "Water                 0\n",
       "Superplasticizer      0\n",
       "Coarse Aggregate      0\n",
       "Fine Aggregate        0\n",
       "Age                   0\n",
       "Strength              0\n",
       "dtype: int64"
      ]
     },
     "execution_count": 4,
     "metadata": {},
     "output_type": "execute_result"
    }
   ],
   "source": [
    "concrete_data.isnull().sum()"
   ]
  },
  {
   "cell_type": "markdown",
   "metadata": {},
   "source": [
    "The data looks very clean and is ready to be used to build our model."
   ]
  },
  {
   "cell_type": "markdown",
   "metadata": {},
   "source": [
    "### Split data into predictors and target"
   ]
  },
  {
   "cell_type": "code",
   "execution_count": 5,
   "metadata": {},
   "outputs": [],
   "source": [
    "concrete_data_columns = concrete_data.columns\n",
    "predictors = concrete_data[concrete_data_columns[concrete_data_columns != 'Strength']] # all columns except Strength\n",
    "target = concrete_data['Strength'] # Strength column"
   ]
  },
  {
   "cell_type": "markdown",
   "metadata": {},
   "source": [
    "Check of the predictors and the target dataframes."
   ]
  },
  {
   "cell_type": "code",
   "execution_count": 6,
   "metadata": {},
   "outputs": [
    {
     "data": {
      "text/html": [
       "<div>\n",
       "<style scoped>\n",
       "    .dataframe tbody tr th:only-of-type {\n",
       "        vertical-align: middle;\n",
       "    }\n",
       "\n",
       "    .dataframe tbody tr th {\n",
       "        vertical-align: top;\n",
       "    }\n",
       "\n",
       "    .dataframe thead th {\n",
       "        text-align: right;\n",
       "    }\n",
       "</style>\n",
       "<table border=\"1\" class=\"dataframe\">\n",
       "  <thead>\n",
       "    <tr style=\"text-align: right;\">\n",
       "      <th></th>\n",
       "      <th>Cement</th>\n",
       "      <th>Blast Furnace Slag</th>\n",
       "      <th>Fly Ash</th>\n",
       "      <th>Water</th>\n",
       "      <th>Superplasticizer</th>\n",
       "      <th>Coarse Aggregate</th>\n",
       "      <th>Fine Aggregate</th>\n",
       "      <th>Age</th>\n",
       "    </tr>\n",
       "  </thead>\n",
       "  <tbody>\n",
       "    <tr>\n",
       "      <th>0</th>\n",
       "      <td>540.0</td>\n",
       "      <td>0.0</td>\n",
       "      <td>0.0</td>\n",
       "      <td>162.0</td>\n",
       "      <td>2.5</td>\n",
       "      <td>1040.0</td>\n",
       "      <td>676.0</td>\n",
       "      <td>28</td>\n",
       "    </tr>\n",
       "    <tr>\n",
       "      <th>1</th>\n",
       "      <td>540.0</td>\n",
       "      <td>0.0</td>\n",
       "      <td>0.0</td>\n",
       "      <td>162.0</td>\n",
       "      <td>2.5</td>\n",
       "      <td>1055.0</td>\n",
       "      <td>676.0</td>\n",
       "      <td>28</td>\n",
       "    </tr>\n",
       "    <tr>\n",
       "      <th>2</th>\n",
       "      <td>332.5</td>\n",
       "      <td>142.5</td>\n",
       "      <td>0.0</td>\n",
       "      <td>228.0</td>\n",
       "      <td>0.0</td>\n",
       "      <td>932.0</td>\n",
       "      <td>594.0</td>\n",
       "      <td>270</td>\n",
       "    </tr>\n",
       "    <tr>\n",
       "      <th>3</th>\n",
       "      <td>332.5</td>\n",
       "      <td>142.5</td>\n",
       "      <td>0.0</td>\n",
       "      <td>228.0</td>\n",
       "      <td>0.0</td>\n",
       "      <td>932.0</td>\n",
       "      <td>594.0</td>\n",
       "      <td>365</td>\n",
       "    </tr>\n",
       "    <tr>\n",
       "      <th>4</th>\n",
       "      <td>198.6</td>\n",
       "      <td>132.4</td>\n",
       "      <td>0.0</td>\n",
       "      <td>192.0</td>\n",
       "      <td>0.0</td>\n",
       "      <td>978.4</td>\n",
       "      <td>825.5</td>\n",
       "      <td>360</td>\n",
       "    </tr>\n",
       "  </tbody>\n",
       "</table>\n",
       "</div>"
      ],
      "text/plain": [
       "   Cement  Blast Furnace Slag  Fly Ash  Water  Superplasticizer  \\\n",
       "0   540.0                 0.0      0.0  162.0               2.5   \n",
       "1   540.0                 0.0      0.0  162.0               2.5   \n",
       "2   332.5               142.5      0.0  228.0               0.0   \n",
       "3   332.5               142.5      0.0  228.0               0.0   \n",
       "4   198.6               132.4      0.0  192.0               0.0   \n",
       "\n",
       "   Coarse Aggregate  Fine Aggregate  Age  \n",
       "0            1040.0           676.0   28  \n",
       "1            1055.0           676.0   28  \n",
       "2             932.0           594.0  270  \n",
       "3             932.0           594.0  365  \n",
       "4             978.4           825.5  360  "
      ]
     },
     "execution_count": 6,
     "metadata": {},
     "output_type": "execute_result"
    }
   ],
   "source": [
    "predictors.head()"
   ]
  },
  {
   "cell_type": "code",
   "execution_count": 7,
   "metadata": {},
   "outputs": [
    {
     "data": {
      "text/plain": [
       "0    79.99\n",
       "1    61.89\n",
       "2    40.27\n",
       "3    41.05\n",
       "4    44.30\n",
       "Name: Strength, dtype: float64"
      ]
     },
     "execution_count": 7,
     "metadata": {},
     "output_type": "execute_result"
    }
   ],
   "source": [
    "target.head()"
   ]
  },
  {
   "cell_type": "markdown",
   "metadata": {},
   "source": [
    "### Normalize the data by substracting the mean and dividing by the standard deviation."
   ]
  },
  {
   "cell_type": "code",
   "execution_count": 8,
   "metadata": {},
   "outputs": [
    {
     "data": {
      "text/html": [
       "<div>\n",
       "<style scoped>\n",
       "    .dataframe tbody tr th:only-of-type {\n",
       "        vertical-align: middle;\n",
       "    }\n",
       "\n",
       "    .dataframe tbody tr th {\n",
       "        vertical-align: top;\n",
       "    }\n",
       "\n",
       "    .dataframe thead th {\n",
       "        text-align: right;\n",
       "    }\n",
       "</style>\n",
       "<table border=\"1\" class=\"dataframe\">\n",
       "  <thead>\n",
       "    <tr style=\"text-align: right;\">\n",
       "      <th></th>\n",
       "      <th>Cement</th>\n",
       "      <th>Blast Furnace Slag</th>\n",
       "      <th>Fly Ash</th>\n",
       "      <th>Water</th>\n",
       "      <th>Superplasticizer</th>\n",
       "      <th>Coarse Aggregate</th>\n",
       "      <th>Fine Aggregate</th>\n",
       "      <th>Age</th>\n",
       "    </tr>\n",
       "  </thead>\n",
       "  <tbody>\n",
       "    <tr>\n",
       "      <th>0</th>\n",
       "      <td>2.476712</td>\n",
       "      <td>-0.856472</td>\n",
       "      <td>-0.846733</td>\n",
       "      <td>-0.916319</td>\n",
       "      <td>-0.620147</td>\n",
       "      <td>0.862735</td>\n",
       "      <td>-1.217079</td>\n",
       "      <td>-0.279597</td>\n",
       "    </tr>\n",
       "    <tr>\n",
       "      <th>1</th>\n",
       "      <td>2.476712</td>\n",
       "      <td>-0.856472</td>\n",
       "      <td>-0.846733</td>\n",
       "      <td>-0.916319</td>\n",
       "      <td>-0.620147</td>\n",
       "      <td>1.055651</td>\n",
       "      <td>-1.217079</td>\n",
       "      <td>-0.279597</td>\n",
       "    </tr>\n",
       "    <tr>\n",
       "      <th>2</th>\n",
       "      <td>0.491187</td>\n",
       "      <td>0.795140</td>\n",
       "      <td>-0.846733</td>\n",
       "      <td>2.174405</td>\n",
       "      <td>-1.038638</td>\n",
       "      <td>-0.526262</td>\n",
       "      <td>-2.239829</td>\n",
       "      <td>3.551340</td>\n",
       "    </tr>\n",
       "    <tr>\n",
       "      <th>3</th>\n",
       "      <td>0.491187</td>\n",
       "      <td>0.795140</td>\n",
       "      <td>-0.846733</td>\n",
       "      <td>2.174405</td>\n",
       "      <td>-1.038638</td>\n",
       "      <td>-0.526262</td>\n",
       "      <td>-2.239829</td>\n",
       "      <td>5.055221</td>\n",
       "    </tr>\n",
       "    <tr>\n",
       "      <th>4</th>\n",
       "      <td>-0.790075</td>\n",
       "      <td>0.678079</td>\n",
       "      <td>-0.846733</td>\n",
       "      <td>0.488555</td>\n",
       "      <td>-1.038638</td>\n",
       "      <td>0.070492</td>\n",
       "      <td>0.647569</td>\n",
       "      <td>4.976069</td>\n",
       "    </tr>\n",
       "  </tbody>\n",
       "</table>\n",
       "</div>"
      ],
      "text/plain": [
       "     Cement  Blast Furnace Slag   Fly Ash     Water  Superplasticizer  \\\n",
       "0  2.476712           -0.856472 -0.846733 -0.916319         -0.620147   \n",
       "1  2.476712           -0.856472 -0.846733 -0.916319         -0.620147   \n",
       "2  0.491187            0.795140 -0.846733  2.174405         -1.038638   \n",
       "3  0.491187            0.795140 -0.846733  2.174405         -1.038638   \n",
       "4 -0.790075            0.678079 -0.846733  0.488555         -1.038638   \n",
       "\n",
       "   Coarse Aggregate  Fine Aggregate       Age  \n",
       "0          0.862735       -1.217079 -0.279597  \n",
       "1          1.055651       -1.217079 -0.279597  \n",
       "2         -0.526262       -2.239829  3.551340  \n",
       "3         -0.526262       -2.239829  5.055221  \n",
       "4          0.070492        0.647569  4.976069  "
      ]
     },
     "execution_count": 8,
     "metadata": {},
     "output_type": "execute_result"
    }
   ],
   "source": [
    "predictors_norm = (predictors - predictors.mean()) / predictors.std()\n",
    "predictors_norm.head()"
   ]
  },
  {
   "cell_type": "code",
   "execution_count": 9,
   "metadata": {},
   "outputs": [
    {
     "data": {
      "text/plain": [
       "8"
      ]
     },
     "execution_count": 9,
     "metadata": {},
     "output_type": "execute_result"
    }
   ],
   "source": [
    "n_cols = predictors_norm.shape[1] # number of predictors\n",
    "n_cols"
   ]
  },
  {
   "cell_type": "markdown",
   "metadata": {},
   "source": [
    "## Import Keras"
   ]
  },
  {
   "cell_type": "code",
   "execution_count": 10,
   "metadata": {
    "scrolled": true
   },
   "outputs": [
    {
     "name": "stderr",
     "output_type": "stream",
     "text": [
      "Using TensorFlow backend.\n"
     ]
    }
   ],
   "source": [
    "import keras"
   ]
  },
  {
   "cell_type": "markdown",
   "metadata": {},
   "source": [
    "Let's import the rest of the packages from the Keras library that we will need to build our regressoin model."
   ]
  },
  {
   "cell_type": "code",
   "execution_count": 11,
   "metadata": {},
   "outputs": [],
   "source": [
    "from keras.models import Sequential\n",
    "from keras.layers import Dense"
   ]
  },
  {
   "cell_type": "markdown",
   "metadata": {},
   "source": [
    "Build a Neural Network that has one hidden layer with 10 neurons and a ReLU activation function. It uses the adam optimizer and the mean squared error as the loss function."
   ]
  },
  {
   "cell_type": "code",
   "execution_count": 12,
   "metadata": {},
   "outputs": [],
   "source": [
    "def regression_model():\n",
    "    # create model\n",
    "    model = Sequential()\n",
    "    model.add(Dense(10, activation='relu', input_shape=(n_cols,)))\n",
    "    model.add(Dense(1))\n",
    "    \n",
    "    # compile model\n",
    "    model.compile(optimizer='adam', loss='mean_squared_error')\n",
    "    return model"
   ]
  },
  {
   "cell_type": "markdown",
   "metadata": {},
   "source": [
    " Randomly split the data into a training and test sets"
   ]
  },
  {
   "cell_type": "code",
   "execution_count": 13,
   "metadata": {},
   "outputs": [],
   "source": [
    "from sklearn.model_selection import train_test_split\n",
    "X_train, X_test, y_train, y_test = train_test_split(predictors_norm, target, test_size=0.3, random_state=42)\n"
   ]
  },
  {
   "cell_type": "markdown",
   "metadata": {},
   "source": [
    "# Train and Test the Network"
   ]
  },
  {
   "cell_type": "code",
   "execution_count": 14,
   "metadata": {},
   "outputs": [
    {
     "name": "stdout",
     "output_type": "stream",
     "text": [
      "Epoch 1/100\n",
      "721/721 [==============================] - 0s 126us/step - loss: 1623.8882\n",
      "Epoch 2/100\n",
      "721/721 [==============================] - 0s 29us/step - loss: 1610.0545\n",
      "Epoch 3/100\n",
      "721/721 [==============================] - 0s 25us/step - loss: 1597.0177\n",
      "Epoch 4/100\n",
      "721/721 [==============================] - 0s 32us/step - loss: 1584.6970\n",
      "Epoch 5/100\n",
      "721/721 [==============================] - 0s 35us/step - loss: 1573.1045\n",
      "Epoch 6/100\n",
      "721/721 [==============================] - 0s 28us/step - loss: 1561.6250\n",
      "Epoch 7/100\n",
      "721/721 [==============================] - 0s 31us/step - loss: 1550.4820\n",
      "Epoch 8/100\n",
      "721/721 [==============================] - 0s 27us/step - loss: 1538.7900\n",
      "Epoch 9/100\n",
      "721/721 [==============================] - 0s 31us/step - loss: 1526.9021\n",
      "Epoch 10/100\n",
      "721/721 [==============================] - 0s 33us/step - loss: 1514.7086\n",
      "Epoch 11/100\n",
      "721/721 [==============================] - 0s 30us/step - loss: 1501.6179\n",
      "Epoch 12/100\n",
      "721/721 [==============================] - 0s 33us/step - loss: 1487.9138\n",
      "Epoch 13/100\n",
      "721/721 [==============================] - 0s 32us/step - loss: 1473.3930\n",
      "Epoch 14/100\n",
      "721/721 [==============================] - 0s 37us/step - loss: 1457.9345\n",
      "Epoch 15/100\n",
      "721/721 [==============================] - 0s 30us/step - loss: 1441.8769\n",
      "Epoch 16/100\n",
      "721/721 [==============================] - 0s 33us/step - loss: 1425.0547\n",
      "Epoch 17/100\n",
      "721/721 [==============================] - 0s 34us/step - loss: 1406.9596\n",
      "Epoch 18/100\n",
      "721/721 [==============================] - 0s 29us/step - loss: 1388.2185\n",
      "Epoch 19/100\n",
      "721/721 [==============================] - 0s 34us/step - loss: 1368.0664\n",
      "Epoch 20/100\n",
      "721/721 [==============================] - 0s 29us/step - loss: 1347.2490\n",
      "Epoch 21/100\n",
      "721/721 [==============================] - 0s 32us/step - loss: 1325.4478\n",
      "Epoch 22/100\n",
      "721/721 [==============================] - 0s 41us/step - loss: 1302.2927\n",
      "Epoch 23/100\n",
      "721/721 [==============================] - 0s 28us/step - loss: 1278.8252\n",
      "Epoch 24/100\n",
      "721/721 [==============================] - 0s 30us/step - loss: 1253.9159\n",
      "Epoch 25/100\n",
      "721/721 [==============================] - 0s 37us/step - loss: 1228.0624\n",
      "Epoch 26/100\n",
      "721/721 [==============================] - 0s 36us/step - loss: 1202.2983\n",
      "Epoch 27/100\n",
      "721/721 [==============================] - 0s 36us/step - loss: 1175.2338\n",
      "Epoch 28/100\n",
      "721/721 [==============================] - 0s 30us/step - loss: 1147.6031\n",
      "Epoch 29/100\n",
      "721/721 [==============================] - 0s 34us/step - loss: 1119.2964\n",
      "Epoch 30/100\n",
      "721/721 [==============================] - 0s 31us/step - loss: 1090.5291\n",
      "Epoch 31/100\n",
      "721/721 [==============================] - 0s 35us/step - loss: 1061.0850\n",
      "Epoch 32/100\n",
      "721/721 [==============================] - 0s 30us/step - loss: 1031.5834\n",
      "Epoch 33/100\n",
      "721/721 [==============================] - 0s 36us/step - loss: 1001.5602\n",
      "Epoch 34/100\n",
      "721/721 [==============================] - 0s 36us/step - loss: 971.6565\n",
      "Epoch 35/100\n",
      "721/721 [==============================] - 0s 36us/step - loss: 941.2815\n",
      "Epoch 36/100\n",
      "721/721 [==============================] - 0s 31us/step - loss: 911.5949\n",
      "Epoch 37/100\n",
      "721/721 [==============================] - 0s 37us/step - loss: 881.6324\n",
      "Epoch 38/100\n",
      "721/721 [==============================] - 0s 31us/step - loss: 851.9906\n",
      "Epoch 39/100\n",
      "721/721 [==============================] - 0s 38us/step - loss: 822.7803\n",
      "Epoch 40/100\n",
      "721/721 [==============================] - 0s 35us/step - loss: 794.9866\n",
      "Epoch 41/100\n",
      "721/721 [==============================] - 0s 34us/step - loss: 766.7312\n",
      "Epoch 42/100\n",
      "721/721 [==============================] - 0s 37us/step - loss: 739.4369\n",
      "Epoch 43/100\n",
      "721/721 [==============================] - 0s 31us/step - loss: 712.8204\n",
      "Epoch 44/100\n",
      "721/721 [==============================] - 0s 34us/step - loss: 686.3367\n",
      "Epoch 45/100\n",
      "721/721 [==============================] - 0s 30us/step - loss: 661.0243\n",
      "Epoch 46/100\n",
      "721/721 [==============================] - 0s 35us/step - loss: 636.2224\n",
      "Epoch 47/100\n",
      "721/721 [==============================] - 0s 37us/step - loss: 612.1968\n",
      "Epoch 48/100\n",
      "721/721 [==============================] - 0s 34us/step - loss: 589.1624\n",
      "Epoch 49/100\n",
      "721/721 [==============================] - 0s 32us/step - loss: 566.8778\n",
      "Epoch 50/100\n",
      "721/721 [==============================] - 0s 36us/step - loss: 546.1453\n",
      "Epoch 51/100\n",
      "721/721 [==============================] - 0s 32us/step - loss: 526.1350\n",
      "Epoch 52/100\n",
      "721/721 [==============================] - 0s 36us/step - loss: 506.8950\n",
      "Epoch 53/100\n",
      "721/721 [==============================] - 0s 28us/step - loss: 488.6567\n",
      "Epoch 54/100\n",
      "721/721 [==============================] - 0s 31us/step - loss: 471.5501\n",
      "Epoch 55/100\n",
      "721/721 [==============================] - 0s 32us/step - loss: 455.2322\n",
      "Epoch 56/100\n",
      "721/721 [==============================] - 0s 35us/step - loss: 439.4881\n",
      "Epoch 57/100\n",
      "721/721 [==============================] - 0s 30us/step - loss: 424.5060\n",
      "Epoch 58/100\n",
      "721/721 [==============================] - 0s 33us/step - loss: 410.2460\n",
      "Epoch 59/100\n",
      "721/721 [==============================] - 0s 30us/step - loss: 396.6775\n",
      "Epoch 60/100\n",
      "721/721 [==============================] - 0s 31us/step - loss: 383.7841\n",
      "Epoch 61/100\n",
      "721/721 [==============================] - 0s 33us/step - loss: 371.4036\n",
      "Epoch 62/100\n",
      "721/721 [==============================] - 0s 31us/step - loss: 359.6208\n",
      "Epoch 63/100\n",
      "721/721 [==============================] - 0s 33us/step - loss: 348.8759\n",
      "Epoch 64/100\n",
      "721/721 [==============================] - 0s 31us/step - loss: 338.3968\n",
      "Epoch 65/100\n",
      "721/721 [==============================] - 0s 31us/step - loss: 328.3839\n",
      "Epoch 66/100\n",
      "721/721 [==============================] - 0s 32us/step - loss: 318.7432\n",
      "Epoch 67/100\n",
      "721/721 [==============================] - 0s 33us/step - loss: 309.8060\n",
      "Epoch 68/100\n",
      "721/721 [==============================] - 0s 34us/step - loss: 300.9515\n",
      "Epoch 69/100\n",
      "721/721 [==============================] - 0s 32us/step - loss: 292.3724\n",
      "Epoch 70/100\n",
      "721/721 [==============================] - 0s 35us/step - loss: 284.6043\n",
      "Epoch 71/100\n",
      "721/721 [==============================] - 0s 35us/step - loss: 276.7698\n",
      "Epoch 72/100\n",
      "721/721 [==============================] - 0s 33us/step - loss: 269.5178\n",
      "Epoch 73/100\n",
      "721/721 [==============================] - 0s 32us/step - loss: 262.5516\n",
      "Epoch 74/100\n",
      "721/721 [==============================] - 0s 33us/step - loss: 256.0656\n",
      "Epoch 75/100\n",
      "721/721 [==============================] - 0s 32us/step - loss: 249.9423\n",
      "Epoch 76/100\n",
      "721/721 [==============================] - 0s 33us/step - loss: 244.3295\n",
      "Epoch 77/100\n",
      "721/721 [==============================] - 0s 30us/step - loss: 238.6836\n",
      "Epoch 78/100\n",
      "721/721 [==============================] - 0s 32us/step - loss: 233.6835\n",
      "Epoch 79/100\n",
      "721/721 [==============================] - 0s 32us/step - loss: 228.6697\n",
      "Epoch 80/100\n",
      "721/721 [==============================] - 0s 30us/step - loss: 224.0538\n",
      "Epoch 81/100\n",
      "721/721 [==============================] - 0s 34us/step - loss: 219.7153\n",
      "Epoch 82/100\n",
      "721/721 [==============================] - 0s 29us/step - loss: 215.5440\n",
      "Epoch 83/100\n",
      "721/721 [==============================] - 0s 32us/step - loss: 211.5354\n",
      "Epoch 84/100\n",
      "721/721 [==============================] - 0s 31us/step - loss: 207.9096\n",
      "Epoch 85/100\n",
      "721/721 [==============================] - 0s 32us/step - loss: 204.2940\n",
      "Epoch 86/100\n",
      "721/721 [==============================] - 0s 33us/step - loss: 200.9194\n",
      "Epoch 87/100\n",
      "721/721 [==============================] - 0s 32us/step - loss: 197.8359\n",
      "Epoch 88/100\n",
      "721/721 [==============================] - 0s 33us/step - loss: 194.7987\n",
      "Epoch 89/100\n",
      "721/721 [==============================] - 0s 31us/step - loss: 191.9333\n",
      "Epoch 90/100\n",
      "721/721 [==============================] - 0s 33us/step - loss: 189.0987\n",
      "Epoch 91/100\n",
      "721/721 [==============================] - 0s 31us/step - loss: 186.6360\n",
      "Epoch 92/100\n",
      "721/721 [==============================] - 0s 34us/step - loss: 184.1678\n",
      "Epoch 93/100\n",
      "721/721 [==============================] - 0s 30us/step - loss: 181.8130\n",
      "Epoch 94/100\n",
      "721/721 [==============================] - 0s 31us/step - loss: 179.6441\n",
      "Epoch 95/100\n",
      "721/721 [==============================] - 0s 32us/step - loss: 177.4806\n"
     ]
    },
    {
     "name": "stdout",
     "output_type": "stream",
     "text": [
      "Epoch 96/100\n",
      "721/721 [==============================] - 0s 31us/step - loss: 175.4944\n",
      "Epoch 97/100\n",
      "721/721 [==============================] - 0s 33us/step - loss: 173.4722\n",
      "Epoch 98/100\n",
      "721/721 [==============================] - 0s 30us/step - loss: 171.5876\n",
      "Epoch 99/100\n",
      "721/721 [==============================] - 0s 32us/step - loss: 169.7308\n",
      "Epoch 100/100\n",
      "721/721 [==============================] - 0s 30us/step - loss: 167.9520\n"
     ]
    },
    {
     "data": {
      "text/plain": [
       "<keras.callbacks.callbacks.History at 0x7fb2a86c3860>"
      ]
     },
     "execution_count": 14,
     "metadata": {},
     "output_type": "execute_result"
    }
   ],
   "source": [
    "# call the model\n",
    "model = regression_model()\n",
    "# fit the model with 100 epochs\n",
    "epochs = 100\n",
    "model.fit(X_train, y_train, epochs=epochs, verbose=1)"
   ]
  },
  {
   "cell_type": "markdown",
   "metadata": {},
   "source": [
    "## Evaluating the model on the test data"
   ]
  },
  {
   "cell_type": "code",
   "execution_count": 15,
   "metadata": {},
   "outputs": [
    {
     "name": "stdout",
     "output_type": "stream",
     "text": [
      "309/309 [==============================] - 0s 53us/step\n"
     ]
    },
    {
     "data": {
      "text/plain": [
       "166.75299264852282"
      ]
     },
     "execution_count": 15,
     "metadata": {},
     "output_type": "execute_result"
    }
   ],
   "source": [
    "loss_val = model.evaluate(X_test, y_test)\n",
    "y_pred = model.predict(X_test)\n",
    "loss_val"
   ]
  },
  {
   "cell_type": "markdown",
   "metadata": {},
   "source": [
    "##  Compute the mean squared error between the predicted concrete strength and the actual concrete strength."
   ]
  },
  {
   "cell_type": "code",
   "execution_count": 16,
   "metadata": {},
   "outputs": [
    {
     "name": "stdout",
     "output_type": "stream",
     "text": [
      "166.7529928161886 0.0\n"
     ]
    }
   ],
   "source": [
    "from sklearn.metrics import mean_squared_error\n",
    "mean_square_error = mean_squared_error(y_test, y_pred)\n",
    "mean = np.mean(mean_square_error)\n",
    "standard_deviation = np.std(mean_square_error)\n",
    "print(mean, standard_deviation)"
   ]
  },
  {
   "cell_type": "markdown",
   "metadata": {},
   "source": [
    "### Create a list of 50 mean squared errors."
   ]
  },
  {
   "cell_type": "code",
   "execution_count": 17,
   "metadata": {},
   "outputs": [
    {
     "name": "stdout",
     "output_type": "stream",
     "text": [
      "MSE 1: 111.63702506154873\n",
      "MSE 2: 92.33397802951652\n",
      "MSE 3: 57.2709170468031\n",
      "MSE 4: 47.37973033571706\n",
      "MSE 5: 45.66597683607182\n",
      "MSE 6: 48.59738686323937\n",
      "MSE 7: 45.8911518726534\n",
      "MSE 8: 33.4150715676712\n",
      "MSE 9: 36.716163931541075\n",
      "MSE 10: 33.04954454736802\n",
      "MSE 11: 35.75011877411777\n",
      "MSE 12: 33.16249807907154\n",
      "MSE 13: 36.79309894043265\n",
      "MSE 14: 40.71011647591699\n",
      "MSE 15: 32.34224412665012\n",
      "MSE 16: 27.868711403658477\n",
      "MSE 17: 30.950587578190184\n",
      "MSE 18: 32.60220017170829\n",
      "MSE 19: 30.35356103100823\n",
      "MSE 20: 33.05474501674615\n",
      "MSE 21: 28.892052227625182\n",
      "MSE 22: 28.379694775084463\n",
      "MSE 23: 25.893460320037544\n",
      "MSE 24: 29.875673226168242\n",
      "MSE 25: 30.556530609871576\n",
      "MSE 26: 33.10747903373249\n",
      "MSE 27: 26.423906955904172\n",
      "MSE 28: 27.54286371002691\n",
      "MSE 29: 33.518197933061224\n",
      "MSE 30: 31.223382548606896\n",
      "MSE 31: 27.443595096131357\n",
      "MSE 32: 24.71300672636063\n",
      "MSE 33: 25.28540840272379\n",
      "MSE 34: 28.87301325875193\n",
      "MSE 35: 29.559474266076936\n",
      "MSE 36: 33.26661196958671\n",
      "MSE 37: 24.3060546523159\n",
      "MSE 38: 32.04165780274228\n",
      "MSE 39: 28.283003871880688\n",
      "MSE 40: 25.98095429059371\n",
      "MSE 41: 32.24893683523036\n",
      "MSE 42: 24.174509079325162\n",
      "MSE 43: 27.56615300780361\n",
      "MSE 44: 32.15608784450296\n",
      "MSE 45: 32.240447911629786\n",
      "MSE 46: 26.33243863250831\n",
      "MSE 47: 28.746793839537983\n",
      "MSE 48: 29.630352365932033\n",
      "MSE 49: 30.24260491306342\n",
      "MSE 50: 29.09210941475186\n",
      "\n",
      "\n",
      "The mean and standard deviation of 50 mean squared errors with normalized data. Total number of epochs for each training is: 50\n",
      "\n",
      "Mean: 35.062825430809\n",
      "Standard Deviation: 15.306079986589841\n"
     ]
    }
   ],
   "source": [
    "total_mean_squared_errors = 50\n",
    "epochs = 50\n",
    "mean_squared_errors = []\n",
    "for i in range(0, total_mean_squared_errors):\n",
    "    X_train, X_test, y_train, y_test = train_test_split(predictors_norm, target, test_size=0.3, random_state=i)\n",
    "    model.fit(X_train, y_train, epochs=epochs, verbose=0)\n",
    "    MSE = model.evaluate(X_test, y_test, verbose=0)\n",
    "    print(\"MSE \"+str(i+1)+\": \"+str(MSE))\n",
    "    y_pred = model.predict(X_test)\n",
    "    mean_square_error = mean_squared_error(y_test, y_pred)\n",
    "    mean_squared_errors.append(mean_square_error)\n",
    "\n",
    "mean_squared_errors = np.array(mean_squared_errors)\n",
    "mean = np.mean(mean_squared_errors)\n",
    "standard_deviation = np.std(mean_squared_errors)\n",
    "\n",
    "print('\\n')\n",
    "print(\"The mean and standard deviation of \" +str(total_mean_squared_errors) + \" mean squared errors with normalized data. Total number of epochs for each training is: \" +str(epochs) + \"\\n\")\n",
    "print(\"Mean: \"+str(mean))\n",
    "print(\"Standard Deviation: \"+str(standard_deviation))"
   ]
  },
  {
   "cell_type": "code",
   "execution_count": null,
   "metadata": {},
   "outputs": [],
   "source": []
  }
 ],
 "metadata": {
  "kernelspec": {
   "display_name": "Python 3",
   "language": "python",
   "name": "python3"
  },
  "language_info": {
   "codemirror_mode": {
    "name": "ipython",
    "version": 3
   },
   "file_extension": ".py",
   "mimetype": "text/x-python",
   "name": "python",
   "nbconvert_exporter": "python",
   "pygments_lexer": "ipython3",
   "version": "3.7.3"
  }
 },
 "nbformat": 4,
 "nbformat_minor": 2
}
